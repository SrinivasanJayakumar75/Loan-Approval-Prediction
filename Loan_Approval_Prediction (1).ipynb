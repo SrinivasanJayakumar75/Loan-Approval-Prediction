{
  "nbformat": 4,
  "nbformat_minor": 0,
  "metadata": {
    "colab": {
      "provenance": []
    },
    "kernelspec": {
      "name": "python3",
      "display_name": "Python 3"
    },
    "language_info": {
      "name": "python"
    }
  },
  "cells": [
    {
      "cell_type": "markdown",
      "source": [
        "Importing required libraries\n"
      ],
      "metadata": {
        "id": "YqGNoGu60tdD"
      }
    },
    {
      "cell_type": "code",
      "execution_count": 3,
      "metadata": {
        "id": "7fkXObCmzWS2"
      },
      "outputs": [],
      "source": [
        "#Importing Libraries\n",
        "\n",
        "import numpy as np\n",
        "import pandas as pd\n",
        "import matplotlib.pyplot as plt\n",
        "import seaborn as sns\n",
        "import pickle\n",
        "import sklearn\n"
      ]
    },
    {
      "cell_type": "code",
      "source": [
        "#Importing Dataset\n",
        "\n",
        "data = pd.read_csv('/content/loan_approval_dataset.csv')"
      ],
      "metadata": {
        "id": "xYjXyFoxz4Gb"
      },
      "execution_count": 4,
      "outputs": []
    },
    {
      "cell_type": "code",
      "source": [
        "data"
      ],
      "metadata": {
        "colab": {
          "base_uri": "https://localhost:8080/",
          "height": 530
        },
        "id": "LjDX9kNU0bOj",
        "outputId": "27804664-d791-4138-dcd6-f2946e620ffd"
      },
      "execution_count": 5,
      "outputs": [
        {
          "output_type": "execute_result",
          "data": {
            "text/plain": [
              "      loan_id   no_of_dependents      education  self_employed   income_annum  \\\n",
              "0           1                  2       Graduate             No        9600000   \n",
              "1           2                  0   Not Graduate            Yes        4100000   \n",
              "2           3                  3       Graduate             No        9100000   \n",
              "3           4                  3       Graduate             No        8200000   \n",
              "4           5                  5   Not Graduate            Yes        9800000   \n",
              "...       ...                ...            ...            ...            ...   \n",
              "4264     4265                  5       Graduate            Yes        1000000   \n",
              "4265     4266                  0   Not Graduate            Yes        3300000   \n",
              "4266     4267                  2   Not Graduate             No        6500000   \n",
              "4267     4268                  1   Not Graduate             No        4100000   \n",
              "4268     4269                  1       Graduate             No        9200000   \n",
              "\n",
              "       loan_amount   loan_term   cibil_score   residential_assets_value  \\\n",
              "0         29900000          12           778                    2400000   \n",
              "1         12200000           8           417                    2700000   \n",
              "2         29700000          20           506                    7100000   \n",
              "3         30700000           8           467                   18200000   \n",
              "4         24200000          20           382                   12400000   \n",
              "...            ...         ...           ...                        ...   \n",
              "4264       2300000          12           317                    2800000   \n",
              "4265      11300000          20           559                    4200000   \n",
              "4266      23900000          18           457                    1200000   \n",
              "4267      12800000           8           780                    8200000   \n",
              "4268      29700000          10           607                   17800000   \n",
              "\n",
              "       commercial_assets_value   luxury_assets_value   bank_asset_value  \\\n",
              "0                     17600000              22700000            8000000   \n",
              "1                      2200000               8800000            3300000   \n",
              "2                      4500000              33300000           12800000   \n",
              "3                      3300000              23300000            7900000   \n",
              "4                      8200000              29400000            5000000   \n",
              "...                        ...                   ...                ...   \n",
              "4264                    500000               3300000             800000   \n",
              "4265                   2900000              11000000            1900000   \n",
              "4266                  12400000              18100000            7300000   \n",
              "4267                    700000              14100000            5800000   \n",
              "4268                  11800000              35700000           12000000   \n",
              "\n",
              "      loan_status  \n",
              "0        Approved  \n",
              "1        Rejected  \n",
              "2        Rejected  \n",
              "3        Rejected  \n",
              "4        Rejected  \n",
              "...           ...  \n",
              "4264     Rejected  \n",
              "4265     Approved  \n",
              "4266     Rejected  \n",
              "4267     Approved  \n",
              "4268     Approved  \n",
              "\n",
              "[4269 rows x 13 columns]"
            ],
            "text/html": [
              "\n",
              "  <div id=\"df-0fbcfea0-019f-4bbf-a6a6-8d364050c1cd\" class=\"colab-df-container\">\n",
              "    <div>\n",
              "<style scoped>\n",
              "    .dataframe tbody tr th:only-of-type {\n",
              "        vertical-align: middle;\n",
              "    }\n",
              "\n",
              "    .dataframe tbody tr th {\n",
              "        vertical-align: top;\n",
              "    }\n",
              "\n",
              "    .dataframe thead th {\n",
              "        text-align: right;\n",
              "    }\n",
              "</style>\n",
              "<table border=\"1\" class=\"dataframe\">\n",
              "  <thead>\n",
              "    <tr style=\"text-align: right;\">\n",
              "      <th></th>\n",
              "      <th>loan_id</th>\n",
              "      <th>no_of_dependents</th>\n",
              "      <th>education</th>\n",
              "      <th>self_employed</th>\n",
              "      <th>income_annum</th>\n",
              "      <th>loan_amount</th>\n",
              "      <th>loan_term</th>\n",
              "      <th>cibil_score</th>\n",
              "      <th>residential_assets_value</th>\n",
              "      <th>commercial_assets_value</th>\n",
              "      <th>luxury_assets_value</th>\n",
              "      <th>bank_asset_value</th>\n",
              "      <th>loan_status</th>\n",
              "    </tr>\n",
              "  </thead>\n",
              "  <tbody>\n",
              "    <tr>\n",
              "      <th>0</th>\n",
              "      <td>1</td>\n",
              "      <td>2</td>\n",
              "      <td>Graduate</td>\n",
              "      <td>No</td>\n",
              "      <td>9600000</td>\n",
              "      <td>29900000</td>\n",
              "      <td>12</td>\n",
              "      <td>778</td>\n",
              "      <td>2400000</td>\n",
              "      <td>17600000</td>\n",
              "      <td>22700000</td>\n",
              "      <td>8000000</td>\n",
              "      <td>Approved</td>\n",
              "    </tr>\n",
              "    <tr>\n",
              "      <th>1</th>\n",
              "      <td>2</td>\n",
              "      <td>0</td>\n",
              "      <td>Not Graduate</td>\n",
              "      <td>Yes</td>\n",
              "      <td>4100000</td>\n",
              "      <td>12200000</td>\n",
              "      <td>8</td>\n",
              "      <td>417</td>\n",
              "      <td>2700000</td>\n",
              "      <td>2200000</td>\n",
              "      <td>8800000</td>\n",
              "      <td>3300000</td>\n",
              "      <td>Rejected</td>\n",
              "    </tr>\n",
              "    <tr>\n",
              "      <th>2</th>\n",
              "      <td>3</td>\n",
              "      <td>3</td>\n",
              "      <td>Graduate</td>\n",
              "      <td>No</td>\n",
              "      <td>9100000</td>\n",
              "      <td>29700000</td>\n",
              "      <td>20</td>\n",
              "      <td>506</td>\n",
              "      <td>7100000</td>\n",
              "      <td>4500000</td>\n",
              "      <td>33300000</td>\n",
              "      <td>12800000</td>\n",
              "      <td>Rejected</td>\n",
              "    </tr>\n",
              "    <tr>\n",
              "      <th>3</th>\n",
              "      <td>4</td>\n",
              "      <td>3</td>\n",
              "      <td>Graduate</td>\n",
              "      <td>No</td>\n",
              "      <td>8200000</td>\n",
              "      <td>30700000</td>\n",
              "      <td>8</td>\n",
              "      <td>467</td>\n",
              "      <td>18200000</td>\n",
              "      <td>3300000</td>\n",
              "      <td>23300000</td>\n",
              "      <td>7900000</td>\n",
              "      <td>Rejected</td>\n",
              "    </tr>\n",
              "    <tr>\n",
              "      <th>4</th>\n",
              "      <td>5</td>\n",
              "      <td>5</td>\n",
              "      <td>Not Graduate</td>\n",
              "      <td>Yes</td>\n",
              "      <td>9800000</td>\n",
              "      <td>24200000</td>\n",
              "      <td>20</td>\n",
              "      <td>382</td>\n",
              "      <td>12400000</td>\n",
              "      <td>8200000</td>\n",
              "      <td>29400000</td>\n",
              "      <td>5000000</td>\n",
              "      <td>Rejected</td>\n",
              "    </tr>\n",
              "    <tr>\n",
              "      <th>...</th>\n",
              "      <td>...</td>\n",
              "      <td>...</td>\n",
              "      <td>...</td>\n",
              "      <td>...</td>\n",
              "      <td>...</td>\n",
              "      <td>...</td>\n",
              "      <td>...</td>\n",
              "      <td>...</td>\n",
              "      <td>...</td>\n",
              "      <td>...</td>\n",
              "      <td>...</td>\n",
              "      <td>...</td>\n",
              "      <td>...</td>\n",
              "    </tr>\n",
              "    <tr>\n",
              "      <th>4264</th>\n",
              "      <td>4265</td>\n",
              "      <td>5</td>\n",
              "      <td>Graduate</td>\n",
              "      <td>Yes</td>\n",
              "      <td>1000000</td>\n",
              "      <td>2300000</td>\n",
              "      <td>12</td>\n",
              "      <td>317</td>\n",
              "      <td>2800000</td>\n",
              "      <td>500000</td>\n",
              "      <td>3300000</td>\n",
              "      <td>800000</td>\n",
              "      <td>Rejected</td>\n",
              "    </tr>\n",
              "    <tr>\n",
              "      <th>4265</th>\n",
              "      <td>4266</td>\n",
              "      <td>0</td>\n",
              "      <td>Not Graduate</td>\n",
              "      <td>Yes</td>\n",
              "      <td>3300000</td>\n",
              "      <td>11300000</td>\n",
              "      <td>20</td>\n",
              "      <td>559</td>\n",
              "      <td>4200000</td>\n",
              "      <td>2900000</td>\n",
              "      <td>11000000</td>\n",
              "      <td>1900000</td>\n",
              "      <td>Approved</td>\n",
              "    </tr>\n",
              "    <tr>\n",
              "      <th>4266</th>\n",
              "      <td>4267</td>\n",
              "      <td>2</td>\n",
              "      <td>Not Graduate</td>\n",
              "      <td>No</td>\n",
              "      <td>6500000</td>\n",
              "      <td>23900000</td>\n",
              "      <td>18</td>\n",
              "      <td>457</td>\n",
              "      <td>1200000</td>\n",
              "      <td>12400000</td>\n",
              "      <td>18100000</td>\n",
              "      <td>7300000</td>\n",
              "      <td>Rejected</td>\n",
              "    </tr>\n",
              "    <tr>\n",
              "      <th>4267</th>\n",
              "      <td>4268</td>\n",
              "      <td>1</td>\n",
              "      <td>Not Graduate</td>\n",
              "      <td>No</td>\n",
              "      <td>4100000</td>\n",
              "      <td>12800000</td>\n",
              "      <td>8</td>\n",
              "      <td>780</td>\n",
              "      <td>8200000</td>\n",
              "      <td>700000</td>\n",
              "      <td>14100000</td>\n",
              "      <td>5800000</td>\n",
              "      <td>Approved</td>\n",
              "    </tr>\n",
              "    <tr>\n",
              "      <th>4268</th>\n",
              "      <td>4269</td>\n",
              "      <td>1</td>\n",
              "      <td>Graduate</td>\n",
              "      <td>No</td>\n",
              "      <td>9200000</td>\n",
              "      <td>29700000</td>\n",
              "      <td>10</td>\n",
              "      <td>607</td>\n",
              "      <td>17800000</td>\n",
              "      <td>11800000</td>\n",
              "      <td>35700000</td>\n",
              "      <td>12000000</td>\n",
              "      <td>Approved</td>\n",
              "    </tr>\n",
              "  </tbody>\n",
              "</table>\n",
              "<p>4269 rows × 13 columns</p>\n",
              "</div>\n",
              "    <div class=\"colab-df-buttons\">\n",
              "\n",
              "  <div class=\"colab-df-container\">\n",
              "    <button class=\"colab-df-convert\" onclick=\"convertToInteractive('df-0fbcfea0-019f-4bbf-a6a6-8d364050c1cd')\"\n",
              "            title=\"Convert this dataframe to an interactive table.\"\n",
              "            style=\"display:none;\">\n",
              "\n",
              "  <svg xmlns=\"http://www.w3.org/2000/svg\" height=\"24px\" viewBox=\"0 -960 960 960\">\n",
              "    <path d=\"M120-120v-720h720v720H120Zm60-500h600v-160H180v160Zm220 220h160v-160H400v160Zm0 220h160v-160H400v160ZM180-400h160v-160H180v160Zm440 0h160v-160H620v160ZM180-180h160v-160H180v160Zm440 0h160v-160H620v160Z\"/>\n",
              "  </svg>\n",
              "    </button>\n",
              "\n",
              "  <style>\n",
              "    .colab-df-container {\n",
              "      display:flex;\n",
              "      gap: 12px;\n",
              "    }\n",
              "\n",
              "    .colab-df-convert {\n",
              "      background-color: #E8F0FE;\n",
              "      border: none;\n",
              "      border-radius: 50%;\n",
              "      cursor: pointer;\n",
              "      display: none;\n",
              "      fill: #1967D2;\n",
              "      height: 32px;\n",
              "      padding: 0 0 0 0;\n",
              "      width: 32px;\n",
              "    }\n",
              "\n",
              "    .colab-df-convert:hover {\n",
              "      background-color: #E2EBFA;\n",
              "      box-shadow: 0px 1px 2px rgba(60, 64, 67, 0.3), 0px 1px 3px 1px rgba(60, 64, 67, 0.15);\n",
              "      fill: #174EA6;\n",
              "    }\n",
              "\n",
              "    .colab-df-buttons div {\n",
              "      margin-bottom: 4px;\n",
              "    }\n",
              "\n",
              "    [theme=dark] .colab-df-convert {\n",
              "      background-color: #3B4455;\n",
              "      fill: #D2E3FC;\n",
              "    }\n",
              "\n",
              "    [theme=dark] .colab-df-convert:hover {\n",
              "      background-color: #434B5C;\n",
              "      box-shadow: 0px 1px 3px 1px rgba(0, 0, 0, 0.15);\n",
              "      filter: drop-shadow(0px 1px 2px rgba(0, 0, 0, 0.3));\n",
              "      fill: #FFFFFF;\n",
              "    }\n",
              "  </style>\n",
              "\n",
              "    <script>\n",
              "      const buttonEl =\n",
              "        document.querySelector('#df-0fbcfea0-019f-4bbf-a6a6-8d364050c1cd button.colab-df-convert');\n",
              "      buttonEl.style.display =\n",
              "        google.colab.kernel.accessAllowed ? 'block' : 'none';\n",
              "\n",
              "      async function convertToInteractive(key) {\n",
              "        const element = document.querySelector('#df-0fbcfea0-019f-4bbf-a6a6-8d364050c1cd');\n",
              "        const dataTable =\n",
              "          await google.colab.kernel.invokeFunction('convertToInteractive',\n",
              "                                                    [key], {});\n",
              "        if (!dataTable) return;\n",
              "\n",
              "        const docLinkHtml = 'Like what you see? Visit the ' +\n",
              "          '<a target=\"_blank\" href=https://colab.research.google.com/notebooks/data_table.ipynb>data table notebook</a>'\n",
              "          + ' to learn more about interactive tables.';\n",
              "        element.innerHTML = '';\n",
              "        dataTable['output_type'] = 'display_data';\n",
              "        await google.colab.output.renderOutput(dataTable, element);\n",
              "        const docLink = document.createElement('div');\n",
              "        docLink.innerHTML = docLinkHtml;\n",
              "        element.appendChild(docLink);\n",
              "      }\n",
              "    </script>\n",
              "  </div>\n",
              "\n",
              "\n",
              "<div id=\"df-eb36fdf9-29c1-46d8-947b-e1529b34a58f\">\n",
              "  <button class=\"colab-df-quickchart\" onclick=\"quickchart('df-eb36fdf9-29c1-46d8-947b-e1529b34a58f')\"\n",
              "            title=\"Suggest charts\"\n",
              "            style=\"display:none;\">\n",
              "\n",
              "<svg xmlns=\"http://www.w3.org/2000/svg\" height=\"24px\"viewBox=\"0 0 24 24\"\n",
              "     width=\"24px\">\n",
              "    <g>\n",
              "        <path d=\"M19 3H5c-1.1 0-2 .9-2 2v14c0 1.1.9 2 2 2h14c1.1 0 2-.9 2-2V5c0-1.1-.9-2-2-2zM9 17H7v-7h2v7zm4 0h-2V7h2v10zm4 0h-2v-4h2v4z\"/>\n",
              "    </g>\n",
              "</svg>\n",
              "  </button>\n",
              "\n",
              "<style>\n",
              "  .colab-df-quickchart {\n",
              "      --bg-color: #E8F0FE;\n",
              "      --fill-color: #1967D2;\n",
              "      --hover-bg-color: #E2EBFA;\n",
              "      --hover-fill-color: #174EA6;\n",
              "      --disabled-fill-color: #AAA;\n",
              "      --disabled-bg-color: #DDD;\n",
              "  }\n",
              "\n",
              "  [theme=dark] .colab-df-quickchart {\n",
              "      --bg-color: #3B4455;\n",
              "      --fill-color: #D2E3FC;\n",
              "      --hover-bg-color: #434B5C;\n",
              "      --hover-fill-color: #FFFFFF;\n",
              "      --disabled-bg-color: #3B4455;\n",
              "      --disabled-fill-color: #666;\n",
              "  }\n",
              "\n",
              "  .colab-df-quickchart {\n",
              "    background-color: var(--bg-color);\n",
              "    border: none;\n",
              "    border-radius: 50%;\n",
              "    cursor: pointer;\n",
              "    display: none;\n",
              "    fill: var(--fill-color);\n",
              "    height: 32px;\n",
              "    padding: 0;\n",
              "    width: 32px;\n",
              "  }\n",
              "\n",
              "  .colab-df-quickchart:hover {\n",
              "    background-color: var(--hover-bg-color);\n",
              "    box-shadow: 0 1px 2px rgba(60, 64, 67, 0.3), 0 1px 3px 1px rgba(60, 64, 67, 0.15);\n",
              "    fill: var(--button-hover-fill-color);\n",
              "  }\n",
              "\n",
              "  .colab-df-quickchart-complete:disabled,\n",
              "  .colab-df-quickchart-complete:disabled:hover {\n",
              "    background-color: var(--disabled-bg-color);\n",
              "    fill: var(--disabled-fill-color);\n",
              "    box-shadow: none;\n",
              "  }\n",
              "\n",
              "  .colab-df-spinner {\n",
              "    border: 2px solid var(--fill-color);\n",
              "    border-color: transparent;\n",
              "    border-bottom-color: var(--fill-color);\n",
              "    animation:\n",
              "      spin 1s steps(1) infinite;\n",
              "  }\n",
              "\n",
              "  @keyframes spin {\n",
              "    0% {\n",
              "      border-color: transparent;\n",
              "      border-bottom-color: var(--fill-color);\n",
              "      border-left-color: var(--fill-color);\n",
              "    }\n",
              "    20% {\n",
              "      border-color: transparent;\n",
              "      border-left-color: var(--fill-color);\n",
              "      border-top-color: var(--fill-color);\n",
              "    }\n",
              "    30% {\n",
              "      border-color: transparent;\n",
              "      border-left-color: var(--fill-color);\n",
              "      border-top-color: var(--fill-color);\n",
              "      border-right-color: var(--fill-color);\n",
              "    }\n",
              "    40% {\n",
              "      border-color: transparent;\n",
              "      border-right-color: var(--fill-color);\n",
              "      border-top-color: var(--fill-color);\n",
              "    }\n",
              "    60% {\n",
              "      border-color: transparent;\n",
              "      border-right-color: var(--fill-color);\n",
              "    }\n",
              "    80% {\n",
              "      border-color: transparent;\n",
              "      border-right-color: var(--fill-color);\n",
              "      border-bottom-color: var(--fill-color);\n",
              "    }\n",
              "    90% {\n",
              "      border-color: transparent;\n",
              "      border-bottom-color: var(--fill-color);\n",
              "    }\n",
              "  }\n",
              "</style>\n",
              "\n",
              "  <script>\n",
              "    async function quickchart(key) {\n",
              "      const quickchartButtonEl =\n",
              "        document.querySelector('#' + key + ' button');\n",
              "      quickchartButtonEl.disabled = true;  // To prevent multiple clicks.\n",
              "      quickchartButtonEl.classList.add('colab-df-spinner');\n",
              "      try {\n",
              "        const charts = await google.colab.kernel.invokeFunction(\n",
              "            'suggestCharts', [key], {});\n",
              "      } catch (error) {\n",
              "        console.error('Error during call to suggestCharts:', error);\n",
              "      }\n",
              "      quickchartButtonEl.classList.remove('colab-df-spinner');\n",
              "      quickchartButtonEl.classList.add('colab-df-quickchart-complete');\n",
              "    }\n",
              "    (() => {\n",
              "      let quickchartButtonEl =\n",
              "        document.querySelector('#df-eb36fdf9-29c1-46d8-947b-e1529b34a58f button');\n",
              "      quickchartButtonEl.style.display =\n",
              "        google.colab.kernel.accessAllowed ? 'block' : 'none';\n",
              "    })();\n",
              "  </script>\n",
              "</div>\n",
              "    </div>\n",
              "  </div>\n"
            ]
          },
          "metadata": {},
          "execution_count": 5
        }
      ]
    },
    {
      "cell_type": "markdown",
      "source": [
        "Data Preprocessing"
      ],
      "metadata": {
        "id": "gVfyqHZD04nj"
      }
    },
    {
      "cell_type": "code",
      "source": [
        "#Handling missing values\n",
        "\n",
        "data.info()"
      ],
      "metadata": {
        "colab": {
          "base_uri": "https://localhost:8080/"
        },
        "id": "jgEIh_3N0cl3",
        "outputId": "20ba9c33-7558-4a41-8343-99ee4dec5945"
      },
      "execution_count": 6,
      "outputs": [
        {
          "output_type": "stream",
          "name": "stdout",
          "text": [
            "<class 'pandas.core.frame.DataFrame'>\n",
            "RangeIndex: 4269 entries, 0 to 4268\n",
            "Data columns (total 13 columns):\n",
            " #   Column                     Non-Null Count  Dtype \n",
            "---  ------                     --------------  ----- \n",
            " 0   loan_id                    4269 non-null   int64 \n",
            " 1    no_of_dependents          4269 non-null   int64 \n",
            " 2    education                 4269 non-null   object\n",
            " 3    self_employed             4269 non-null   object\n",
            " 4    income_annum              4269 non-null   int64 \n",
            " 5    loan_amount               4269 non-null   int64 \n",
            " 6    loan_term                 4269 non-null   int64 \n",
            " 7    cibil_score               4269 non-null   int64 \n",
            " 8    residential_assets_value  4269 non-null   int64 \n",
            " 9    commercial_assets_value   4269 non-null   int64 \n",
            " 10   luxury_assets_value       4269 non-null   int64 \n",
            " 11   bank_asset_value          4269 non-null   int64 \n",
            " 12   loan_status               4269 non-null   object\n",
            "dtypes: int64(10), object(3)\n",
            "memory usage: 433.7+ KB\n"
          ]
        }
      ]
    },
    {
      "cell_type": "code",
      "source": [
        "#Checking for null values\n",
        "\n",
        "data.isnull().sum()"
      ],
      "metadata": {
        "colab": {
          "base_uri": "https://localhost:8080/"
        },
        "id": "ErJMEj1P1Le2",
        "outputId": "d514c2f9-aea0-4441-e629-f3d105c98267"
      },
      "execution_count": 7,
      "outputs": [
        {
          "output_type": "execute_result",
          "data": {
            "text/plain": [
              "loan_id                      0\n",
              " no_of_dependents            0\n",
              " education                   0\n",
              " self_employed               0\n",
              " income_annum                0\n",
              " loan_amount                 0\n",
              " loan_term                   0\n",
              " cibil_score                 0\n",
              " residential_assets_value    0\n",
              " commercial_assets_value     0\n",
              " luxury_assets_value         0\n",
              " bank_asset_value            0\n",
              " loan_status                 0\n",
              "dtype: int64"
            ]
          },
          "metadata": {},
          "execution_count": 7
        }
      ]
    },
    {
      "cell_type": "code",
      "source": [
        "#splitting the data into X and Y\n",
        "\n",
        "X = data.iloc[:,:-1].values\n",
        "Y = data.iloc[:,-1].values"
      ],
      "metadata": {
        "id": "jF5HoGp02ZYf"
      },
      "execution_count": 8,
      "outputs": []
    },
    {
      "cell_type": "markdown",
      "source": [
        "Handling Categorical value"
      ],
      "metadata": {
        "id": "Urvupab32C71"
      }
    },
    {
      "cell_type": "code",
      "source": [
        "#Coverting graduate, not graduate to 0 and 1\n",
        "\n",
        "from sklearn.preprocessing import LabelEncoder\n",
        "le = LabelEncoder()\n",
        "X[:, 2] = le.fit_transform(X[:, 2])\n"
      ],
      "metadata": {
        "id": "6HuUlIda1alO"
      },
      "execution_count": 9,
      "outputs": []
    },
    {
      "cell_type": "code",
      "source": [
        "X[:, 3] = le.fit_transform(X[:, 3])"
      ],
      "metadata": {
        "id": "p4GIzueQ3YX4"
      },
      "execution_count": 10,
      "outputs": []
    },
    {
      "cell_type": "code",
      "source": [
        "Y = le.fit_transform(Y)"
      ],
      "metadata": {
        "id": "Yz8P-Gyd3mde"
      },
      "execution_count": 11,
      "outputs": []
    },
    {
      "cell_type": "code",
      "source": [
        "X"
      ],
      "metadata": {
        "colab": {
          "base_uri": "https://localhost:8080/"
        },
        "id": "Rf-8GdHm3w-i",
        "outputId": "a75bf15a-5e77-4e63-a5ac-0d0854f05750"
      },
      "execution_count": 12,
      "outputs": [
        {
          "output_type": "execute_result",
          "data": {
            "text/plain": [
              "array([[1, 2, 0, ..., 17600000, 22700000, 8000000],\n",
              "       [2, 0, 1, ..., 2200000, 8800000, 3300000],\n",
              "       [3, 3, 0, ..., 4500000, 33300000, 12800000],\n",
              "       ...,\n",
              "       [4267, 2, 1, ..., 12400000, 18100000, 7300000],\n",
              "       [4268, 1, 1, ..., 700000, 14100000, 5800000],\n",
              "       [4269, 1, 0, ..., 11800000, 35700000, 12000000]], dtype=object)"
            ]
          },
          "metadata": {},
          "execution_count": 12
        }
      ]
    },
    {
      "cell_type": "code",
      "source": [
        "Y"
      ],
      "metadata": {
        "colab": {
          "base_uri": "https://localhost:8080/"
        },
        "id": "klcqj60l4HFC",
        "outputId": "c5ac4343-98d6-4420-8987-7c216f121a52"
      },
      "execution_count": 13,
      "outputs": [
        {
          "output_type": "execute_result",
          "data": {
            "text/plain": [
              "array([0, 1, 1, ..., 1, 0, 0])"
            ]
          },
          "metadata": {},
          "execution_count": 13
        }
      ]
    },
    {
      "cell_type": "markdown",
      "source": [
        "Exploratory Data Analysis"
      ],
      "metadata": {
        "id": "9pj3jMq55ral"
      }
    },
    {
      "cell_type": "code",
      "source": [
        "data.describe()"
      ],
      "metadata": {
        "colab": {
          "base_uri": "https://localhost:8080/",
          "height": 320
        },
        "id": "UGS9IkDF404m",
        "outputId": "5ee38977-2812-43b8-8bfc-68304599a881"
      },
      "execution_count": 14,
      "outputs": [
        {
          "output_type": "execute_result",
          "data": {
            "text/plain": [
              "           loan_id   no_of_dependents   income_annum   loan_amount  \\\n",
              "count  4269.000000        4269.000000   4.269000e+03  4.269000e+03   \n",
              "mean   2135.000000           2.498712   5.059124e+06  1.513345e+07   \n",
              "std    1232.498479           1.695910   2.806840e+06  9.043363e+06   \n",
              "min       1.000000           0.000000   2.000000e+05  3.000000e+05   \n",
              "25%    1068.000000           1.000000   2.700000e+06  7.700000e+06   \n",
              "50%    2135.000000           3.000000   5.100000e+06  1.450000e+07   \n",
              "75%    3202.000000           4.000000   7.500000e+06  2.150000e+07   \n",
              "max    4269.000000           5.000000   9.900000e+06  3.950000e+07   \n",
              "\n",
              "         loan_term   cibil_score   residential_assets_value  \\\n",
              "count  4269.000000   4269.000000               4.269000e+03   \n",
              "mean     10.900445    599.936051               7.472617e+06   \n",
              "std       5.709187    172.430401               6.503637e+06   \n",
              "min       2.000000    300.000000              -1.000000e+05   \n",
              "25%       6.000000    453.000000               2.200000e+06   \n",
              "50%      10.000000    600.000000               5.600000e+06   \n",
              "75%      16.000000    748.000000               1.130000e+07   \n",
              "max      20.000000    900.000000               2.910000e+07   \n",
              "\n",
              "        commercial_assets_value   luxury_assets_value   bank_asset_value  \n",
              "count              4.269000e+03          4.269000e+03       4.269000e+03  \n",
              "mean               4.973155e+06          1.512631e+07       4.976692e+06  \n",
              "std                4.388966e+06          9.103754e+06       3.250185e+06  \n",
              "min                0.000000e+00          3.000000e+05       0.000000e+00  \n",
              "25%                1.300000e+06          7.500000e+06       2.300000e+06  \n",
              "50%                3.700000e+06          1.460000e+07       4.600000e+06  \n",
              "75%                7.600000e+06          2.170000e+07       7.100000e+06  \n",
              "max                1.940000e+07          3.920000e+07       1.470000e+07  "
            ],
            "text/html": [
              "\n",
              "  <div id=\"df-02014667-2df7-4646-bb9b-3e89d515875d\" class=\"colab-df-container\">\n",
              "    <div>\n",
              "<style scoped>\n",
              "    .dataframe tbody tr th:only-of-type {\n",
              "        vertical-align: middle;\n",
              "    }\n",
              "\n",
              "    .dataframe tbody tr th {\n",
              "        vertical-align: top;\n",
              "    }\n",
              "\n",
              "    .dataframe thead th {\n",
              "        text-align: right;\n",
              "    }\n",
              "</style>\n",
              "<table border=\"1\" class=\"dataframe\">\n",
              "  <thead>\n",
              "    <tr style=\"text-align: right;\">\n",
              "      <th></th>\n",
              "      <th>loan_id</th>\n",
              "      <th>no_of_dependents</th>\n",
              "      <th>income_annum</th>\n",
              "      <th>loan_amount</th>\n",
              "      <th>loan_term</th>\n",
              "      <th>cibil_score</th>\n",
              "      <th>residential_assets_value</th>\n",
              "      <th>commercial_assets_value</th>\n",
              "      <th>luxury_assets_value</th>\n",
              "      <th>bank_asset_value</th>\n",
              "    </tr>\n",
              "  </thead>\n",
              "  <tbody>\n",
              "    <tr>\n",
              "      <th>count</th>\n",
              "      <td>4269.000000</td>\n",
              "      <td>4269.000000</td>\n",
              "      <td>4.269000e+03</td>\n",
              "      <td>4.269000e+03</td>\n",
              "      <td>4269.000000</td>\n",
              "      <td>4269.000000</td>\n",
              "      <td>4.269000e+03</td>\n",
              "      <td>4.269000e+03</td>\n",
              "      <td>4.269000e+03</td>\n",
              "      <td>4.269000e+03</td>\n",
              "    </tr>\n",
              "    <tr>\n",
              "      <th>mean</th>\n",
              "      <td>2135.000000</td>\n",
              "      <td>2.498712</td>\n",
              "      <td>5.059124e+06</td>\n",
              "      <td>1.513345e+07</td>\n",
              "      <td>10.900445</td>\n",
              "      <td>599.936051</td>\n",
              "      <td>7.472617e+06</td>\n",
              "      <td>4.973155e+06</td>\n",
              "      <td>1.512631e+07</td>\n",
              "      <td>4.976692e+06</td>\n",
              "    </tr>\n",
              "    <tr>\n",
              "      <th>std</th>\n",
              "      <td>1232.498479</td>\n",
              "      <td>1.695910</td>\n",
              "      <td>2.806840e+06</td>\n",
              "      <td>9.043363e+06</td>\n",
              "      <td>5.709187</td>\n",
              "      <td>172.430401</td>\n",
              "      <td>6.503637e+06</td>\n",
              "      <td>4.388966e+06</td>\n",
              "      <td>9.103754e+06</td>\n",
              "      <td>3.250185e+06</td>\n",
              "    </tr>\n",
              "    <tr>\n",
              "      <th>min</th>\n",
              "      <td>1.000000</td>\n",
              "      <td>0.000000</td>\n",
              "      <td>2.000000e+05</td>\n",
              "      <td>3.000000e+05</td>\n",
              "      <td>2.000000</td>\n",
              "      <td>300.000000</td>\n",
              "      <td>-1.000000e+05</td>\n",
              "      <td>0.000000e+00</td>\n",
              "      <td>3.000000e+05</td>\n",
              "      <td>0.000000e+00</td>\n",
              "    </tr>\n",
              "    <tr>\n",
              "      <th>25%</th>\n",
              "      <td>1068.000000</td>\n",
              "      <td>1.000000</td>\n",
              "      <td>2.700000e+06</td>\n",
              "      <td>7.700000e+06</td>\n",
              "      <td>6.000000</td>\n",
              "      <td>453.000000</td>\n",
              "      <td>2.200000e+06</td>\n",
              "      <td>1.300000e+06</td>\n",
              "      <td>7.500000e+06</td>\n",
              "      <td>2.300000e+06</td>\n",
              "    </tr>\n",
              "    <tr>\n",
              "      <th>50%</th>\n",
              "      <td>2135.000000</td>\n",
              "      <td>3.000000</td>\n",
              "      <td>5.100000e+06</td>\n",
              "      <td>1.450000e+07</td>\n",
              "      <td>10.000000</td>\n",
              "      <td>600.000000</td>\n",
              "      <td>5.600000e+06</td>\n",
              "      <td>3.700000e+06</td>\n",
              "      <td>1.460000e+07</td>\n",
              "      <td>4.600000e+06</td>\n",
              "    </tr>\n",
              "    <tr>\n",
              "      <th>75%</th>\n",
              "      <td>3202.000000</td>\n",
              "      <td>4.000000</td>\n",
              "      <td>7.500000e+06</td>\n",
              "      <td>2.150000e+07</td>\n",
              "      <td>16.000000</td>\n",
              "      <td>748.000000</td>\n",
              "      <td>1.130000e+07</td>\n",
              "      <td>7.600000e+06</td>\n",
              "      <td>2.170000e+07</td>\n",
              "      <td>7.100000e+06</td>\n",
              "    </tr>\n",
              "    <tr>\n",
              "      <th>max</th>\n",
              "      <td>4269.000000</td>\n",
              "      <td>5.000000</td>\n",
              "      <td>9.900000e+06</td>\n",
              "      <td>3.950000e+07</td>\n",
              "      <td>20.000000</td>\n",
              "      <td>900.000000</td>\n",
              "      <td>2.910000e+07</td>\n",
              "      <td>1.940000e+07</td>\n",
              "      <td>3.920000e+07</td>\n",
              "      <td>1.470000e+07</td>\n",
              "    </tr>\n",
              "  </tbody>\n",
              "</table>\n",
              "</div>\n",
              "    <div class=\"colab-df-buttons\">\n",
              "\n",
              "  <div class=\"colab-df-container\">\n",
              "    <button class=\"colab-df-convert\" onclick=\"convertToInteractive('df-02014667-2df7-4646-bb9b-3e89d515875d')\"\n",
              "            title=\"Convert this dataframe to an interactive table.\"\n",
              "            style=\"display:none;\">\n",
              "\n",
              "  <svg xmlns=\"http://www.w3.org/2000/svg\" height=\"24px\" viewBox=\"0 -960 960 960\">\n",
              "    <path d=\"M120-120v-720h720v720H120Zm60-500h600v-160H180v160Zm220 220h160v-160H400v160Zm0 220h160v-160H400v160ZM180-400h160v-160H180v160Zm440 0h160v-160H620v160ZM180-180h160v-160H180v160Zm440 0h160v-160H620v160Z\"/>\n",
              "  </svg>\n",
              "    </button>\n",
              "\n",
              "  <style>\n",
              "    .colab-df-container {\n",
              "      display:flex;\n",
              "      gap: 12px;\n",
              "    }\n",
              "\n",
              "    .colab-df-convert {\n",
              "      background-color: #E8F0FE;\n",
              "      border: none;\n",
              "      border-radius: 50%;\n",
              "      cursor: pointer;\n",
              "      display: none;\n",
              "      fill: #1967D2;\n",
              "      height: 32px;\n",
              "      padding: 0 0 0 0;\n",
              "      width: 32px;\n",
              "    }\n",
              "\n",
              "    .colab-df-convert:hover {\n",
              "      background-color: #E2EBFA;\n",
              "      box-shadow: 0px 1px 2px rgba(60, 64, 67, 0.3), 0px 1px 3px 1px rgba(60, 64, 67, 0.15);\n",
              "      fill: #174EA6;\n",
              "    }\n",
              "\n",
              "    .colab-df-buttons div {\n",
              "      margin-bottom: 4px;\n",
              "    }\n",
              "\n",
              "    [theme=dark] .colab-df-convert {\n",
              "      background-color: #3B4455;\n",
              "      fill: #D2E3FC;\n",
              "    }\n",
              "\n",
              "    [theme=dark] .colab-df-convert:hover {\n",
              "      background-color: #434B5C;\n",
              "      box-shadow: 0px 1px 3px 1px rgba(0, 0, 0, 0.15);\n",
              "      filter: drop-shadow(0px 1px 2px rgba(0, 0, 0, 0.3));\n",
              "      fill: #FFFFFF;\n",
              "    }\n",
              "  </style>\n",
              "\n",
              "    <script>\n",
              "      const buttonEl =\n",
              "        document.querySelector('#df-02014667-2df7-4646-bb9b-3e89d515875d button.colab-df-convert');\n",
              "      buttonEl.style.display =\n",
              "        google.colab.kernel.accessAllowed ? 'block' : 'none';\n",
              "\n",
              "      async function convertToInteractive(key) {\n",
              "        const element = document.querySelector('#df-02014667-2df7-4646-bb9b-3e89d515875d');\n",
              "        const dataTable =\n",
              "          await google.colab.kernel.invokeFunction('convertToInteractive',\n",
              "                                                    [key], {});\n",
              "        if (!dataTable) return;\n",
              "\n",
              "        const docLinkHtml = 'Like what you see? Visit the ' +\n",
              "          '<a target=\"_blank\" href=https://colab.research.google.com/notebooks/data_table.ipynb>data table notebook</a>'\n",
              "          + ' to learn more about interactive tables.';\n",
              "        element.innerHTML = '';\n",
              "        dataTable['output_type'] = 'display_data';\n",
              "        await google.colab.output.renderOutput(dataTable, element);\n",
              "        const docLink = document.createElement('div');\n",
              "        docLink.innerHTML = docLinkHtml;\n",
              "        element.appendChild(docLink);\n",
              "      }\n",
              "    </script>\n",
              "  </div>\n",
              "\n",
              "\n",
              "<div id=\"df-90ecf927-9fc7-473a-a566-dd53493b0352\">\n",
              "  <button class=\"colab-df-quickchart\" onclick=\"quickchart('df-90ecf927-9fc7-473a-a566-dd53493b0352')\"\n",
              "            title=\"Suggest charts\"\n",
              "            style=\"display:none;\">\n",
              "\n",
              "<svg xmlns=\"http://www.w3.org/2000/svg\" height=\"24px\"viewBox=\"0 0 24 24\"\n",
              "     width=\"24px\">\n",
              "    <g>\n",
              "        <path d=\"M19 3H5c-1.1 0-2 .9-2 2v14c0 1.1.9 2 2 2h14c1.1 0 2-.9 2-2V5c0-1.1-.9-2-2-2zM9 17H7v-7h2v7zm4 0h-2V7h2v10zm4 0h-2v-4h2v4z\"/>\n",
              "    </g>\n",
              "</svg>\n",
              "  </button>\n",
              "\n",
              "<style>\n",
              "  .colab-df-quickchart {\n",
              "      --bg-color: #E8F0FE;\n",
              "      --fill-color: #1967D2;\n",
              "      --hover-bg-color: #E2EBFA;\n",
              "      --hover-fill-color: #174EA6;\n",
              "      --disabled-fill-color: #AAA;\n",
              "      --disabled-bg-color: #DDD;\n",
              "  }\n",
              "\n",
              "  [theme=dark] .colab-df-quickchart {\n",
              "      --bg-color: #3B4455;\n",
              "      --fill-color: #D2E3FC;\n",
              "      --hover-bg-color: #434B5C;\n",
              "      --hover-fill-color: #FFFFFF;\n",
              "      --disabled-bg-color: #3B4455;\n",
              "      --disabled-fill-color: #666;\n",
              "  }\n",
              "\n",
              "  .colab-df-quickchart {\n",
              "    background-color: var(--bg-color);\n",
              "    border: none;\n",
              "    border-radius: 50%;\n",
              "    cursor: pointer;\n",
              "    display: none;\n",
              "    fill: var(--fill-color);\n",
              "    height: 32px;\n",
              "    padding: 0;\n",
              "    width: 32px;\n",
              "  }\n",
              "\n",
              "  .colab-df-quickchart:hover {\n",
              "    background-color: var(--hover-bg-color);\n",
              "    box-shadow: 0 1px 2px rgba(60, 64, 67, 0.3), 0 1px 3px 1px rgba(60, 64, 67, 0.15);\n",
              "    fill: var(--button-hover-fill-color);\n",
              "  }\n",
              "\n",
              "  .colab-df-quickchart-complete:disabled,\n",
              "  .colab-df-quickchart-complete:disabled:hover {\n",
              "    background-color: var(--disabled-bg-color);\n",
              "    fill: var(--disabled-fill-color);\n",
              "    box-shadow: none;\n",
              "  }\n",
              "\n",
              "  .colab-df-spinner {\n",
              "    border: 2px solid var(--fill-color);\n",
              "    border-color: transparent;\n",
              "    border-bottom-color: var(--fill-color);\n",
              "    animation:\n",
              "      spin 1s steps(1) infinite;\n",
              "  }\n",
              "\n",
              "  @keyframes spin {\n",
              "    0% {\n",
              "      border-color: transparent;\n",
              "      border-bottom-color: var(--fill-color);\n",
              "      border-left-color: var(--fill-color);\n",
              "    }\n",
              "    20% {\n",
              "      border-color: transparent;\n",
              "      border-left-color: var(--fill-color);\n",
              "      border-top-color: var(--fill-color);\n",
              "    }\n",
              "    30% {\n",
              "      border-color: transparent;\n",
              "      border-left-color: var(--fill-color);\n",
              "      border-top-color: var(--fill-color);\n",
              "      border-right-color: var(--fill-color);\n",
              "    }\n",
              "    40% {\n",
              "      border-color: transparent;\n",
              "      border-right-color: var(--fill-color);\n",
              "      border-top-color: var(--fill-color);\n",
              "    }\n",
              "    60% {\n",
              "      border-color: transparent;\n",
              "      border-right-color: var(--fill-color);\n",
              "    }\n",
              "    80% {\n",
              "      border-color: transparent;\n",
              "      border-right-color: var(--fill-color);\n",
              "      border-bottom-color: var(--fill-color);\n",
              "    }\n",
              "    90% {\n",
              "      border-color: transparent;\n",
              "      border-bottom-color: var(--fill-color);\n",
              "    }\n",
              "  }\n",
              "</style>\n",
              "\n",
              "  <script>\n",
              "    async function quickchart(key) {\n",
              "      const quickchartButtonEl =\n",
              "        document.querySelector('#' + key + ' button');\n",
              "      quickchartButtonEl.disabled = true;  // To prevent multiple clicks.\n",
              "      quickchartButtonEl.classList.add('colab-df-spinner');\n",
              "      try {\n",
              "        const charts = await google.colab.kernel.invokeFunction(\n",
              "            'suggestCharts', [key], {});\n",
              "      } catch (error) {\n",
              "        console.error('Error during call to suggestCharts:', error);\n",
              "      }\n",
              "      quickchartButtonEl.classList.remove('colab-df-spinner');\n",
              "      quickchartButtonEl.classList.add('colab-df-quickchart-complete');\n",
              "    }\n",
              "    (() => {\n",
              "      let quickchartButtonEl =\n",
              "        document.querySelector('#df-90ecf927-9fc7-473a-a566-dd53493b0352 button');\n",
              "      quickchartButtonEl.style.display =\n",
              "        google.colab.kernel.accessAllowed ? 'block' : 'none';\n",
              "    })();\n",
              "  </script>\n",
              "</div>\n",
              "    </div>\n",
              "  </div>\n"
            ]
          },
          "metadata": {},
          "execution_count": 14
        }
      ]
    },
    {
      "cell_type": "code",
      "source": [
        "#Visual analysis\n",
        "\n",
        "import seaborn as sns\n",
        "\n",
        "plt.figure(figsize=(10,7))\n",
        "sns.heatmap(data.corr(), annot=True)\n",
        "plt.show()"
      ],
      "metadata": {
        "colab": {
          "base_uri": "https://localhost:8080/",
          "height": 829
        },
        "id": "644T1XuL58Pb",
        "outputId": "42700bd9-8cd0-425c-c2ec-a4e89b02bc90"
      },
      "execution_count": 15,
      "outputs": [
        {
          "output_type": "stream",
          "name": "stderr",
          "text": [
            "<ipython-input-15-abfdfd9d4272>:6: FutureWarning: The default value of numeric_only in DataFrame.corr is deprecated. In a future version, it will default to False. Select only valid columns or specify the value of numeric_only to silence this warning.\n",
            "  sns.heatmap(data.corr(), annot=True)\n"
          ]
        },
        {
          "output_type": "display_data",
          "data": {
            "text/plain": [
              "<Figure size 1000x700 with 2 Axes>"
            ],
            "image/png": "[encoded data removed]"
          },
          "metadata": {}
        }
      ]
    },
    {
      "cell_type": "markdown",
      "source": [
        "Splitting the data into train and test"
      ],
      "metadata": {
        "id": "UcKljEWI-Hiw"
      }
    },
    {
      "cell_type": "code",
      "source": [
        "#Train test split is used to split the data\n",
        "\n",
        "from sklearn.model_selection import train_test_split\n",
        "x_train, x_test, y_train, y_test = train_test_split(X, Y, test_size = 0.2, random_state = 1)"
      ],
      "metadata": {
        "id": "XN4scxNJ-E8n"
      },
      "execution_count": 16,
      "outputs": []
    },
    {
      "cell_type": "markdown",
      "source": [
        "Scaling the data"
      ],
      "metadata": {
        "id": "-yO3GHRC9lox"
      }
    },
    {
      "cell_type": "code",
      "source": [
        "#Using standardscaler to scale to data\n",
        "\n",
        "from sklearn.preprocessing import StandardScaler\n",
        "ss = StandardScaler()\n",
        "ss.fit(x_train)\n",
        "std_xtrain = ss.transform(x_train)\n",
        "std_xtest = ss.transform(x_test)"
      ],
      "metadata": {
        "id": "qsDZ7Rcu6gqQ"
      },
      "execution_count": 17,
      "outputs": []
    },
    {
      "cell_type": "markdown",
      "source": [
        "Model Training"
      ],
      "metadata": {
        "id": "jVNV0Asn_Hec"
      }
    },
    {
      "cell_type": "code",
      "source": [
        "#DecisionTreeClassifier\n",
        "\n",
        "from sklearn.tree import DecisionTreeClassifier\n",
        "dt = DecisionTreeClassifier(random_state = 1)\n",
        "dt.fit(x_train, y_train)\n",
        "dtpreds = dt.predict(x_test)\n",
        "\n",
        "from sklearn.metrics import accuracy_score\n",
        "dtacc = accuracy_score(y_test, dtpreds)\n",
        "dtacc"
      ],
      "metadata": {
        "colab": {
          "base_uri": "https://localhost:8080/"
        },
        "id": "Lzb26bVT-3MT",
        "outputId": "dcc3494f-5935-4316-e690-7895fa66c721"
      },
      "execution_count": 18,
      "outputs": [
        {
          "output_type": "execute_result",
          "data": {
            "text/plain": [
              "0.9672131147540983"
            ]
          },
          "metadata": {},
          "execution_count": 18
        }
      ]
    },
    {
      "cell_type": "code",
      "source": [
        "#RandomForestClassifier\n",
        "\n",
        "from sklearn.ensemble import RandomForestClassifier\n",
        "rf = RandomForestClassifier(random_state = 1)\n",
        "rf.fit(x_train, y_train)\n",
        "rfpreds = rf.predict(x_test)\n",
        "\n",
        "rfacc = accuracy_score(y_test, rfpreds)\n",
        "rfacc"
      ],
      "metadata": {
        "colab": {
          "base_uri": "https://localhost:8080/"
        },
        "id": "c72pZXgFCC6z",
        "outputId": "e6800845-81a6-4784-f90b-a4d12c2e758b"
      },
      "execution_count": 19,
      "outputs": [
        {
          "output_type": "execute_result",
          "data": {
            "text/plain": [
              "0.9859484777517564"
            ]
          },
          "metadata": {},
          "execution_count": 19
        }
      ]
    },
    {
      "cell_type": "code",
      "source": [
        "#KNN classifier\n",
        "\n",
        "from sklearn.neighbors import KNeighborsClassifier\n",
        "knn = KNeighborsClassifier()\n",
        "knn.fit(std_xtrain, y_train)\n",
        "knnpreds = knn.predict(std_xtest)\n",
        "\n",
        "knnacc = accuracy_score(y_test, knnpreds)\n",
        "knnacc\n"
      ],
      "metadata": {
        "colab": {
          "base_uri": "https://localhost:8080/"
        },
        "id": "E07XmM6mCu1_",
        "outputId": "d229e35b-8611-4e27-cf6b-3faca2c53042"
      },
      "execution_count": 20,
      "outputs": [
        {
          "output_type": "execute_result",
          "data": {
            "text/plain": [
              "0.8899297423887588"
            ]
          },
          "metadata": {},
          "execution_count": 20
        }
      ]
    },
    {
      "cell_type": "code",
      "source": [
        "#xgboost classifier\n",
        "\n",
        "import xgboost as xgb\n",
        "xgbc = xgb.XGBClassifier(random_state = 1)\n",
        "xgbc.fit(x_train, y_train)\n",
        "xgbpreds = xgbc.predict(x_test)\n",
        "\n",
        "xgbcacc = accuracy_score(y_test, xgbpreds)\n",
        "xgbcacc"
      ],
      "metadata": {
        "colab": {
          "base_uri": "https://localhost:8080/"
        },
        "id": "1KvyT7hQD2R7",
        "outputId": "615d319d-00ca-4378-99ee-bb285525ef2f"
      },
      "execution_count": 21,
      "outputs": [
        {
          "output_type": "execute_result",
          "data": {
            "text/plain": [
              "0.9824355971896955"
            ]
          },
          "metadata": {},
          "execution_count": 21
        }
      ]
    },
    {
      "cell_type": "code",
      "source": [
        "#Artificial Neural Network\n",
        "\n",
        "import tensorflow as tf\n",
        "\n",
        "ann = tf.keras.models.Sequential()"
      ],
      "metadata": {
        "id": "b_W46jZJFAhc"
      },
      "execution_count": 22,
      "outputs": []
    },
    {
      "cell_type": "code",
      "source": [
        "ann.add(tf.keras.layers.Dense(units = 100, activation = 'relu'))"
      ],
      "metadata": {
        "id": "iZNcXfLKF6Y9"
      },
      "execution_count": 23,
      "outputs": []
    },
    {
      "cell_type": "code",
      "source": [
        "ann.add(tf.keras.layers.Dense(units = 100, activation = 'relu'))"
      ],
      "metadata": {
        "id": "gpd2VJmsGN15"
      },
      "execution_count": 24,
      "outputs": []
    },
    {
      "cell_type": "code",
      "source": [
        "ann.add(tf.keras.layers.Dense(units = 1, activation = 'sigmoid'))"
      ],
      "metadata": {
        "id": "awb-lY5AGYeq"
      },
      "execution_count": 25,
      "outputs": []
    },
    {
      "cell_type": "code",
      "source": [
        "ann.compile(optimizer = 'adam', loss = 'binary_crossentropy', metrics = ['accuracy'])"
      ],
      "metadata": {
        "id": "8P2ogDtuGrMF"
      },
      "execution_count": 26,
      "outputs": []
    },
    {
      "cell_type": "code",
      "source": [
        "X1=np.asarray(x_train).astype(np.float32)\n",
        "\n",
        "Y1=np.asarray(y_train).astype(np.float32)"
      ],
      "metadata": {
        "id": "izKcu_DfIVOi"
      },
      "execution_count": 27,
      "outputs": []
    },
    {
      "cell_type": "code",
      "source": [
        "\n",
        "ann.fit(X1, Y1, batch_size = 100, epochs = 100)"
      ],
      "metadata": {
        "colab": {
          "base_uri": "https://localhost:8080/"
        },
        "id": "dxeCZ-swHB_f",
        "outputId": "50ad08bb-6b3c-4716-c792-3be2155c2ba6"
      },
      "execution_count": 28,
      "outputs": [
        {
          "output_type": "stream",
          "name": "stdout",
          "text": [
            "Epoch 1/100\n",
            "35/35 [==============================] - 1s 2ms/step - loss: 150475.1562 - accuracy: 0.5426\n",
            "Epoch 2/100\n",
            "35/35 [==============================] - 0s 2ms/step - loss: 38298.2734 - accuracy: 0.5318\n",
            "Epoch 3/100\n",
            "35/35 [==============================] - 0s 2ms/step - loss: 21902.4492 - accuracy: 0.5461\n",
            "Epoch 4/100\n",
            "35/35 [==============================] - 0s 2ms/step - loss: 27483.4316 - accuracy: 0.5523\n",
            "Epoch 5/100\n",
            "35/35 [==============================] - 0s 2ms/step - loss: 22774.5430 - accuracy: 0.5558\n",
            "Epoch 6/100\n",
            "35/35 [==============================] - 0s 2ms/step - loss: 53075.9531 - accuracy: 0.5394\n",
            "Epoch 7/100\n",
            "35/35 [==============================] - 0s 2ms/step - loss: 30393.5371 - accuracy: 0.5602\n",
            "Epoch 8/100\n",
            "35/35 [==============================] - 0s 2ms/step - loss: 22621.6387 - accuracy: 0.5558\n",
            "Epoch 9/100\n",
            "35/35 [==============================] - 0s 2ms/step - loss: 19897.2383 - accuracy: 0.5490\n",
            "Epoch 10/100\n",
            "35/35 [==============================] - 0s 2ms/step - loss: 19489.9590 - accuracy: 0.5570\n",
            "Epoch 11/100\n",
            "35/35 [==============================] - 0s 2ms/step - loss: 24297.5469 - accuracy: 0.5587\n",
            "Epoch 12/100\n",
            "35/35 [==============================] - 0s 2ms/step - loss: 16753.4766 - accuracy: 0.5473\n",
            "Epoch 13/100\n",
            "35/35 [==============================] - 0s 2ms/step - loss: 12022.5420 - accuracy: 0.5564\n",
            "Epoch 14/100\n",
            "35/35 [==============================] - 0s 3ms/step - loss: 13954.8955 - accuracy: 0.5482\n",
            "Epoch 15/100\n",
            "35/35 [==============================] - 0s 2ms/step - loss: 13147.1465 - accuracy: 0.5534\n",
            "Epoch 16/100\n",
            "35/35 [==============================] - 0s 2ms/step - loss: 12382.3506 - accuracy: 0.5499\n",
            "Epoch 17/100\n",
            "35/35 [==============================] - 0s 2ms/step - loss: 19647.6094 - accuracy: 0.5388\n",
            "Epoch 18/100\n",
            "35/35 [==============================] - 0s 2ms/step - loss: 25644.4512 - accuracy: 0.5473\n",
            "Epoch 19/100\n",
            "35/35 [==============================] - 0s 2ms/step - loss: 16470.2480 - accuracy: 0.5514\n",
            "Epoch 20/100\n",
            "35/35 [==============================] - 0s 2ms/step - loss: 14491.2871 - accuracy: 0.5549\n",
            "Epoch 21/100\n",
            "35/35 [==============================] - 0s 2ms/step - loss: 14800.4307 - accuracy: 0.5593\n",
            "Epoch 22/100\n",
            "35/35 [==============================] - 0s 2ms/step - loss: 25008.6660 - accuracy: 0.5447\n",
            "Epoch 23/100\n",
            "35/35 [==============================] - 0s 2ms/step - loss: 9919.2637 - accuracy: 0.5640\n",
            "Epoch 24/100\n",
            "35/35 [==============================] - 0s 2ms/step - loss: 19455.4375 - accuracy: 0.5558\n",
            "Epoch 25/100\n",
            "35/35 [==============================] - 0s 2ms/step - loss: 22975.4668 - accuracy: 0.5499\n",
            "Epoch 26/100\n",
            "35/35 [==============================] - 0s 2ms/step - loss: 17338.2480 - accuracy: 0.5572\n",
            "Epoch 27/100\n",
            "35/35 [==============================] - 0s 2ms/step - loss: 11990.5430 - accuracy: 0.5555\n",
            "Epoch 28/100\n",
            "35/35 [==============================] - 0s 3ms/step - loss: 10401.3525 - accuracy: 0.5675\n",
            "Epoch 29/100\n",
            "35/35 [==============================] - 0s 2ms/step - loss: 19881.4082 - accuracy: 0.5540\n",
            "Epoch 30/100\n",
            "35/35 [==============================] - 0s 2ms/step - loss: 17067.7617 - accuracy: 0.5687\n",
            "Epoch 31/100\n",
            "35/35 [==============================] - 0s 2ms/step - loss: 9183.7520 - accuracy: 0.5728\n",
            "Epoch 32/100\n",
            "35/35 [==============================] - 0s 2ms/step - loss: 11950.5654 - accuracy: 0.5739\n",
            "Epoch 33/100\n",
            "35/35 [==============================] - 0s 2ms/step - loss: 12040.1055 - accuracy: 0.5619\n",
            "Epoch 34/100\n",
            "35/35 [==============================] - 0s 2ms/step - loss: 22084.3789 - accuracy: 0.5488\n",
            "Epoch 35/100\n",
            "35/35 [==============================] - 0s 2ms/step - loss: 13768.0537 - accuracy: 0.5593\n",
            "Epoch 36/100\n",
            "35/35 [==============================] - 0s 2ms/step - loss: 9259.6074 - accuracy: 0.5783\n",
            "Epoch 37/100\n",
            "35/35 [==============================] - 0s 2ms/step - loss: 8111.4365 - accuracy: 0.5628\n",
            "Epoch 38/100\n",
            "35/35 [==============================] - 0s 2ms/step - loss: 9655.2676 - accuracy: 0.5605\n",
            "Epoch 39/100\n",
            "35/35 [==============================] - 0s 2ms/step - loss: 18399.1055 - accuracy: 0.5505\n",
            "Epoch 40/100\n",
            "35/35 [==============================] - 0s 2ms/step - loss: 10086.7666 - accuracy: 0.5605\n",
            "Epoch 41/100\n",
            "35/35 [==============================] - 0s 2ms/step - loss: 22682.0371 - accuracy: 0.5505\n",
            "Epoch 42/100\n",
            "35/35 [==============================] - 0s 3ms/step - loss: 20408.5293 - accuracy: 0.5458\n",
            "Epoch 43/100\n",
            "35/35 [==============================] - 0s 3ms/step - loss: 17321.5820 - accuracy: 0.5470\n",
            "Epoch 44/100\n",
            "35/35 [==============================] - 0s 3ms/step - loss: 7078.6626 - accuracy: 0.5918\n",
            "Epoch 45/100\n",
            "35/35 [==============================] - 0s 3ms/step - loss: 24255.0176 - accuracy: 0.5611\n",
            "Epoch 46/100\n",
            "35/35 [==============================] - 0s 4ms/step - loss: 15754.9912 - accuracy: 0.5546\n",
            "Epoch 47/100\n",
            "35/35 [==============================] - 0s 3ms/step - loss: 10381.0674 - accuracy: 0.5654\n",
            "Epoch 48/100\n",
            "35/35 [==============================] - 0s 4ms/step - loss: 7375.9375 - accuracy: 0.5786\n",
            "Epoch 49/100\n",
            "35/35 [==============================] - 0s 3ms/step - loss: 8050.7051 - accuracy: 0.5637\n",
            "Epoch 50/100\n",
            "35/35 [==============================] - 0s 3ms/step - loss: 12398.5176 - accuracy: 0.5531\n",
            "Epoch 51/100\n",
            "35/35 [==============================] - 0s 4ms/step - loss: 14394.9971 - accuracy: 0.5652\n",
            "Epoch 52/100\n",
            "35/35 [==============================] - 0s 3ms/step - loss: 7322.6572 - accuracy: 0.5745\n",
            "Epoch 53/100\n",
            "35/35 [==============================] - 0s 3ms/step - loss: 17564.4844 - accuracy: 0.5493\n",
            "Epoch 54/100\n",
            "35/35 [==============================] - 0s 3ms/step - loss: 8388.8037 - accuracy: 0.5769\n",
            "Epoch 55/100\n",
            "35/35 [==============================] - 0s 3ms/step - loss: 15415.4434 - accuracy: 0.5657\n",
            "Epoch 56/100\n",
            "35/35 [==============================] - 0s 3ms/step - loss: 19317.3652 - accuracy: 0.5490\n",
            "Epoch 57/100\n",
            "35/35 [==============================] - 0s 3ms/step - loss: 15903.5430 - accuracy: 0.5669\n",
            "Epoch 58/100\n",
            "35/35 [==============================] - 0s 3ms/step - loss: 8050.1802 - accuracy: 0.5751\n",
            "Epoch 59/100\n",
            "35/35 [==============================] - 0s 3ms/step - loss: 5571.2207 - accuracy: 0.5836\n",
            "Epoch 60/100\n",
            "35/35 [==============================] - 0s 3ms/step - loss: 17050.9980 - accuracy: 0.5517\n",
            "Epoch 61/100\n",
            "35/35 [==============================] - 0s 3ms/step - loss: 9872.4004 - accuracy: 0.5766\n",
            "Epoch 62/100\n",
            "35/35 [==============================] - 0s 3ms/step - loss: 11003.2090 - accuracy: 0.5587\n",
            "Epoch 63/100\n",
            "35/35 [==============================] - 0s 4ms/step - loss: 5992.7959 - accuracy: 0.5769\n",
            "Epoch 64/100\n",
            "35/35 [==============================] - 0s 3ms/step - loss: 6159.3486 - accuracy: 0.5950\n",
            "Epoch 65/100\n",
            "35/35 [==============================] - 0s 4ms/step - loss: 6839.5942 - accuracy: 0.5783\n",
            "Epoch 66/100\n",
            "35/35 [==============================] - 0s 4ms/step - loss: 6736.9868 - accuracy: 0.5739\n",
            "Epoch 67/100\n",
            "35/35 [==============================] - 0s 4ms/step - loss: 11543.1523 - accuracy: 0.5745\n",
            "Epoch 68/100\n",
            "35/35 [==============================] - 0s 4ms/step - loss: 14825.8701 - accuracy: 0.5622\n",
            "Epoch 69/100\n",
            "35/35 [==============================] - 0s 3ms/step - loss: 13092.2891 - accuracy: 0.5637\n",
            "Epoch 70/100\n",
            "35/35 [==============================] - 0s 4ms/step - loss: 6315.1123 - accuracy: 0.5801\n",
            "Epoch 71/100\n",
            "35/35 [==============================] - 0s 3ms/step - loss: 6322.8403 - accuracy: 0.5739\n",
            "Epoch 72/100\n",
            "35/35 [==============================] - 0s 3ms/step - loss: 13155.0615 - accuracy: 0.5552\n",
            "Epoch 73/100\n",
            "35/35 [==============================] - 0s 3ms/step - loss: 10910.7803 - accuracy: 0.5678\n",
            "Epoch 74/100\n",
            "35/35 [==============================] - 0s 3ms/step - loss: 6558.1235 - accuracy: 0.5772\n",
            "Epoch 75/100\n",
            "35/35 [==============================] - 0s 3ms/step - loss: 8005.4585 - accuracy: 0.5804\n",
            "Epoch 76/100\n",
            "35/35 [==============================] - 0s 3ms/step - loss: 6481.8945 - accuracy: 0.5748\n",
            "Epoch 77/100\n",
            "35/35 [==============================] - 0s 3ms/step - loss: 9404.2637 - accuracy: 0.5742\n",
            "Epoch 78/100\n",
            "35/35 [==============================] - 0s 3ms/step - loss: 17305.1035 - accuracy: 0.5546\n",
            "Epoch 79/100\n",
            "35/35 [==============================] - 0s 3ms/step - loss: 8115.1860 - accuracy: 0.5880\n",
            "Epoch 80/100\n",
            "35/35 [==============================] - 0s 3ms/step - loss: 8385.2705 - accuracy: 0.5619\n",
            "Epoch 81/100\n",
            "35/35 [==============================] - 0s 3ms/step - loss: 10708.1807 - accuracy: 0.5728\n",
            "Epoch 82/100\n",
            "35/35 [==============================] - 0s 3ms/step - loss: 8045.7183 - accuracy: 0.5763\n",
            "Epoch 83/100\n",
            "35/35 [==============================] - 0s 3ms/step - loss: 11133.2207 - accuracy: 0.5695\n",
            "Epoch 84/100\n",
            "35/35 [==============================] - 0s 2ms/step - loss: 7642.8916 - accuracy: 0.5678\n",
            "Epoch 85/100\n",
            "35/35 [==============================] - 0s 2ms/step - loss: 10831.9707 - accuracy: 0.5681\n",
            "Epoch 86/100\n",
            "35/35 [==============================] - 0s 2ms/step - loss: 13077.6572 - accuracy: 0.5496\n",
            "Epoch 87/100\n",
            "35/35 [==============================] - 0s 2ms/step - loss: 9750.1836 - accuracy: 0.5839\n",
            "Epoch 88/100\n",
            "35/35 [==============================] - 0s 2ms/step - loss: 9676.6758 - accuracy: 0.5725\n",
            "Epoch 89/100\n",
            "35/35 [==============================] - 0s 2ms/step - loss: 10614.6973 - accuracy: 0.5581\n",
            "Epoch 90/100\n",
            "35/35 [==============================] - 0s 2ms/step - loss: 7200.5669 - accuracy: 0.5842\n",
            "Epoch 91/100\n",
            "35/35 [==============================] - 0s 2ms/step - loss: 11472.6504 - accuracy: 0.5608\n",
            "Epoch 92/100\n",
            "35/35 [==============================] - 0s 2ms/step - loss: 5003.7456 - accuracy: 0.5936\n",
            "Epoch 93/100\n",
            "35/35 [==============================] - 0s 2ms/step - loss: 9682.0977 - accuracy: 0.5678\n",
            "Epoch 94/100\n",
            "35/35 [==============================] - 0s 2ms/step - loss: 6962.5894 - accuracy: 0.5605\n",
            "Epoch 95/100\n",
            "35/35 [==============================] - 0s 2ms/step - loss: 8501.8545 - accuracy: 0.5695\n",
            "Epoch 96/100\n",
            "35/35 [==============================] - 0s 2ms/step - loss: 7797.0244 - accuracy: 0.5777\n",
            "Epoch 97/100\n",
            "35/35 [==============================] - 0s 2ms/step - loss: 11130.4785 - accuracy: 0.5546\n",
            "Epoch 98/100\n",
            "35/35 [==============================] - 0s 2ms/step - loss: 4840.8711 - accuracy: 0.5930\n",
            "Epoch 99/100\n",
            "35/35 [==============================] - 0s 2ms/step - loss: 9038.2979 - accuracy: 0.5792\n",
            "Epoch 100/100\n",
            "35/35 [==============================] - 0s 2ms/step - loss: 13230.4258 - accuracy: 0.5611\n"
          ]
        },
        {
          "output_type": "execute_result",
          "data": {
            "text/plain": [
              "<keras.src.callbacks.History at 0x7922b9f6ece0>"
            ]
          },
          "metadata": {},
          "execution_count": 28
        }
      ]
    },
    {
      "cell_type": "markdown",
      "source": [
        "Tuning the Random Forest model"
      ],
      "metadata": {
        "id": "QOTCxaoQKRuW"
      }
    },
    {
      "cell_type": "code",
      "source": [
        "#Tuning with hyper parameters\n",
        "\n",
        "from sklearn.model_selection import RandomizedSearchCV, StratifiedKFold\n",
        "rfc = RandomForestClassifier()\n",
        "\n",
        "skf = StratifiedKFold(n_splits = 5)\n",
        "\n",
        "hyper_params = {'criterion':['gini', 'entropy'],\n",
        "                'ccp_alpha':np.linspace(0,0.0001,5),\n",
        "                'max_features':np.linspace(0.8,1,4),\n",
        "                'max_samples':np.linspace(0.9,1,3),\n",
        "                'n_estimators':range(80,121,10)}\n",
        "\n",
        "rcv = RandomizedSearchCV(rfc, param_distributions = hyper_params, cv = skf, scoring = 'accuracy')\n",
        "\n",
        "rcv.fit(X, Y)"
      ],
      "metadata": {
        "colab": {
          "base_uri": "https://localhost:8080/",
          "height": 117
        },
        "id": "6JDaeVidJp19",
        "outputId": "f7d07d96-2884-498c-bd9e-44f2f2c265b3"
      },
      "execution_count": 29,
      "outputs": [
        {
          "output_type": "execute_result",
          "data": {
            "text/plain": [
              "RandomizedSearchCV(cv=StratifiedKFold(n_splits=5, random_state=None, shuffle=False),\n",
              "                   estimator=RandomForestClassifier(),\n",
              "                   param_distributions={'ccp_alpha': array([0.0e+00, 2.5e-05, 5.0e-05, 7.5e-05, 1.0e-04]),\n",
              "                                        'criterion': ['gini', 'entropy'],\n",
              "                                        'max_features': array([0.8       , 0.86666667, 0.93333333, 1.        ]),\n",
              "                                        'max_samples': array([0.9 , 0.95, 1.  ]),\n",
              "                                        'n_estimators': range(80, 121, 10)},\n",
              "                   scoring='accuracy')"
            ],
            "text/html": [
              "<style>#sk-container-id-1 {color: black;background-color: white;}#sk-container-id-1 pre{padding: 0;}#sk-container-id-1 div.sk-toggleable {background-color: white;}#sk-container-id-1 label.sk-toggleable__label {cursor: pointer;display: block;width: 100%;margin-bottom: 0;padding: 0.3em;box-sizing: border-box;text-align: center;}#sk-container-id-1 label.sk-toggleable__label-arrow:before {content: \"▸\";float: left;margin-right: 0.25em;color: #696969;}#sk-container-id-1 label.sk-toggleable__label-arrow:hover:before {color: black;}#sk-container-id-1 div.sk-estimator:hover label.sk-toggleable__label-arrow:before {color: black;}#sk-container-id-1 div.sk-toggleable__content {max-height: 0;max-width: 0;overflow: hidden;text-align: left;background-color: #f0f8ff;}#sk-container-id-1 div.sk-toggleable__content pre {margin: 0.2em;color: black;border-radius: 0.25em;background-color: #f0f8ff;}#sk-container-id-1 input.sk-toggleable__control:checked~div.sk-toggleable__content {max-height: 200px;max-width: 100%;overflow: auto;}#sk-container-id-1 input.sk-toggleable__control:checked~label.sk-toggleable__label-arrow:before {content: \"▾\";}#sk-container-id-1 div.sk-estimator input.sk-toggleable__control:checked~label.sk-toggleable__label {background-color: #d4ebff;}#sk-container-id-1 div.sk-label input.sk-toggleable__control:checked~label.sk-toggleable__label {background-color: #d4ebff;}#sk-container-id-1 input.sk-hidden--visually {border: 0;clip: rect(1px 1px 1px 1px);clip: rect(1px, 1px, 1px, 1px);height: 1px;margin: -1px;overflow: hidden;padding: 0;position: absolute;width: 1px;}#sk-container-id-1 div.sk-estimator {font-family: monospace;background-color: #f0f8ff;border: 1px dotted black;border-radius: 0.25em;box-sizing: border-box;margin-bottom: 0.5em;}#sk-container-id-1 div.sk-estimator:hover {background-color: #d4ebff;}#sk-container-id-1 div.sk-parallel-item::after {content: \"\";width: 100%;border-bottom: 1px solid gray;flex-grow: 1;}#sk-container-id-1 div.sk-label:hover label.sk-toggleable__label {background-color: #d4ebff;}#sk-container-id-1 div.sk-serial::before {content: \"\";position: absolute;border-left: 1px solid gray;box-sizing: border-box;top: 0;bottom: 0;left: 50%;z-index: 0;}#sk-container-id-1 div.sk-serial {display: flex;flex-direction: column;align-items: center;background-color: white;padding-right: 0.2em;padding-left: 0.2em;position: relative;}#sk-container-id-1 div.sk-item {position: relative;z-index: 1;}#sk-container-id-1 div.sk-parallel {display: flex;align-items: stretch;justify-content: center;background-color: white;position: relative;}#sk-container-id-1 div.sk-item::before, #sk-container-id-1 div.sk-parallel-item::before {content: \"\";position: absolute;border-left: 1px solid gray;box-sizing: border-box;top: 0;bottom: 0;left: 50%;z-index: -1;}#sk-container-id-1 div.sk-parallel-item {display: flex;flex-direction: column;z-index: 1;position: relative;background-color: white;}#sk-container-id-1 div.sk-parallel-item:first-child::after {align-self: flex-end;width: 50%;}#sk-container-id-1 div.sk-parallel-item:last-child::after {align-self: flex-start;width: 50%;}#sk-container-id-1 div.sk-parallel-item:only-child::after {width: 0;}#sk-container-id-1 div.sk-dashed-wrapped {border: 1px dashed gray;margin: 0 0.4em 0.5em 0.4em;box-sizing: border-box;padding-bottom: 0.4em;background-color: white;}#sk-container-id-1 div.sk-label label {font-family: monospace;font-weight: bold;display: inline-block;line-height: 1.2em;}#sk-container-id-1 div.sk-label-container {text-align: center;}#sk-container-id-1 div.sk-container {/* jupyter's `normalize.less` sets `[hidden] { display: none; }` but bootstrap.min.css set `[hidden] { display: none !important; }` so we also need the `!important` here to be able to override the default hidden behavior on the sphinx rendered scikit-learn.org. See: https://github.com/scikit-learn/scikit-learn/issues/21755 */display: inline-block !important;position: relative;}#sk-container-id-1 div.sk-text-repr-fallback {display: none;}</style><div id=\"sk-container-id-1\" class=\"sk-top-container\"><div class=\"sk-text-repr-fallback\"><pre>RandomizedSearchCV(cv=StratifiedKFold(n_splits=5, random_state=None, shuffle=False),\n",
              "                   estimator=RandomForestClassifier(),\n",
              "                   param_distributions={&#x27;ccp_alpha&#x27;: array([0.0e+00, 2.5e-05, 5.0e-05, 7.5e-05, 1.0e-04]),\n",
              "                                        &#x27;criterion&#x27;: [&#x27;gini&#x27;, &#x27;entropy&#x27;],\n",
              "                                        &#x27;max_features&#x27;: array([0.8       , 0.86666667, 0.93333333, 1.        ]),\n",
              "                                        &#x27;max_samples&#x27;: array([0.9 , 0.95, 1.  ]),\n",
              "                                        &#x27;n_estimators&#x27;: range(80, 121, 10)},\n",
              "                   scoring=&#x27;accuracy&#x27;)</pre><b>In a Jupyter environment, please rerun this cell to show the HTML representation or trust the notebook. <br />On GitHub, the HTML representation is unable to render, please try loading this page with nbviewer.org.</b></div><div class=\"sk-container\" hidden><div class=\"sk-item sk-dashed-wrapped\"><div class=\"sk-label-container\"><div class=\"sk-label sk-toggleable\"><input class=\"sk-toggleable__control sk-hidden--visually\" id=\"sk-estimator-id-1\" type=\"checkbox\" ><label for=\"sk-estimator-id-1\" class=\"sk-toggleable__label sk-toggleable__label-arrow\">RandomizedSearchCV</label><div class=\"sk-toggleable__content\"><pre>RandomizedSearchCV(cv=StratifiedKFold(n_splits=5, random_state=None, shuffle=False),\n",
              "                   estimator=RandomForestClassifier(),\n",
              "                   param_distributions={&#x27;ccp_alpha&#x27;: array([0.0e+00, 2.5e-05, 5.0e-05, 7.5e-05, 1.0e-04]),\n",
              "                                        &#x27;criterion&#x27;: [&#x27;gini&#x27;, &#x27;entropy&#x27;],\n",
              "                                        &#x27;max_features&#x27;: array([0.8       , 0.86666667, 0.93333333, 1.        ]),\n",
              "                                        &#x27;max_samples&#x27;: array([0.9 , 0.95, 1.  ]),\n",
              "                                        &#x27;n_estimators&#x27;: range(80, 121, 10)},\n",
              "                   scoring=&#x27;accuracy&#x27;)</pre></div></div></div><div class=\"sk-parallel\"><div class=\"sk-parallel-item\"><div class=\"sk-item\"><div class=\"sk-label-container\"><div class=\"sk-label sk-toggleable\"><input class=\"sk-toggleable__control sk-hidden--visually\" id=\"sk-estimator-id-2\" type=\"checkbox\" ><label for=\"sk-estimator-id-2\" class=\"sk-toggleable__label sk-toggleable__label-arrow\">estimator: RandomForestClassifier</label><div class=\"sk-toggleable__content\"><pre>RandomForestClassifier()</pre></div></div></div><div class=\"sk-serial\"><div class=\"sk-item\"><div class=\"sk-estimator sk-toggleable\"><input class=\"sk-toggleable__control sk-hidden--visually\" id=\"sk-estimator-id-3\" type=\"checkbox\" ><label for=\"sk-estimator-id-3\" class=\"sk-toggleable__label sk-toggleable__label-arrow\">RandomForestClassifier</label><div class=\"sk-toggleable__content\"><pre>RandomForestClassifier()</pre></div></div></div></div></div></div></div></div></div></div>"
            ]
          },
          "metadata": {},
          "execution_count": 29
        }
      ]
    },
    {
      "cell_type": "code",
      "source": [
        "rcv.best_params_"
      ],
      "metadata": {
        "colab": {
          "base_uri": "https://localhost:8080/"
        },
        "id": "hjwGbCV0Miug",
        "outputId": "6c7a19b6-cf73-41c3-bff7-57b7c024d4fd"
      },
      "execution_count": 30,
      "outputs": [
        {
          "output_type": "execute_result",
          "data": {
            "text/plain": [
              "{'n_estimators': 120,\n",
              " 'max_samples': 0.95,\n",
              " 'max_features': 0.8666666666666667,\n",
              " 'criterion': 'entropy',\n",
              " 'ccp_alpha': 5e-05}"
            ]
          },
          "metadata": {},
          "execution_count": 30
        }
      ]
    },
    {
      "cell_type": "code",
      "source": [
        "rfcacc = rcv.best_score_\n",
        "rfcacc"
      ],
      "metadata": {
        "colab": {
          "base_uri": "https://localhost:8080/"
        },
        "id": "hZm-TyPWNMp2",
        "outputId": "1cc4c28f-bb63-4c32-fced-071d22fbb565"
      },
      "execution_count": 31,
      "outputs": [
        {
          "output_type": "execute_result",
          "data": {
            "text/plain": [
              "0.9831351532406633"
            ]
          },
          "metadata": {},
          "execution_count": 31
        }
      ]
    },
    {
      "cell_type": "markdown",
      "source": [
        "Comparing the models"
      ],
      "metadata": {
        "id": "MsU1FIdzObTx"
      }
    },
    {
      "cell_type": "code",
      "source": [
        "acc_scores =[ ['KNN Classifier', knnacc], ['DecisionTreeClassifier', dtacc],\n",
        "             ['RandomForestClassifier', rfacc], ['XgboostClassifier', xgbcacc],\n",
        "              ['RandomForestTuning', rfcacc ]]\n",
        "loan_pred = pd.DataFrame(acc_scores, columns = ['classification models' ,'accuracy_score'])\n",
        "loan_pred"
      ],
      "metadata": {
        "colab": {
          "base_uri": "https://localhost:8080/",
          "height": 206
        },
        "id": "FVOnuQ_HNRDl",
        "outputId": "dd0606b4-0725-4383-e3a0-13f27fff31bc"
      },
      "execution_count": 32,
      "outputs": [
        {
          "output_type": "execute_result",
          "data": {
            "text/plain": [
              "    classification models  accuracy_score\n",
              "0          KNN Classifier        0.889930\n",
              "1  DecisionTreeClassifier        0.967213\n",
              "2  RandomForestClassifier        0.985948\n",
              "3       XgboostClassifier        0.982436\n",
              "4      RandomForestTuning        0.983135"
            ],
            "text/html": [
              "\n",
              "  <div id=\"df-aa84edac-78b7-47cc-a12b-22ac3d70aeeb\" class=\"colab-df-container\">\n",
              "    <div>\n",
              "<style scoped>\n",
              "    .dataframe tbody tr th:only-of-type {\n",
              "        vertical-align: middle;\n",
              "    }\n",
              "\n",
              "    .dataframe tbody tr th {\n",
              "        vertical-align: top;\n",
              "    }\n",
              "\n",
              "    .dataframe thead th {\n",
              "        text-align: right;\n",
              "    }\n",
              "</style>\n",
              "<table border=\"1\" class=\"dataframe\">\n",
              "  <thead>\n",
              "    <tr style=\"text-align: right;\">\n",
              "      <th></th>\n",
              "      <th>classification models</th>\n",
              "      <th>accuracy_score</th>\n",
              "    </tr>\n",
              "  </thead>\n",
              "  <tbody>\n",
              "    <tr>\n",
              "      <th>0</th>\n",
              "      <td>KNN Classifier</td>\n",
              "      <td>0.889930</td>\n",
              "    </tr>\n",
              "    <tr>\n",
              "      <th>1</th>\n",
              "      <td>DecisionTreeClassifier</td>\n",
              "      <td>0.967213</td>\n",
              "    </tr>\n",
              "    <tr>\n",
              "      <th>2</th>\n",
              "      <td>RandomForestClassifier</td>\n",
              "      <td>0.985948</td>\n",
              "    </tr>\n",
              "    <tr>\n",
              "      <th>3</th>\n",
              "      <td>XgboostClassifier</td>\n",
              "      <td>0.982436</td>\n",
              "    </tr>\n",
              "    <tr>\n",
              "      <th>4</th>\n",
              "      <td>RandomForestTuning</td>\n",
              "      <td>0.983135</td>\n",
              "    </tr>\n",
              "  </tbody>\n",
              "</table>\n",
              "</div>\n",
              "    <div class=\"colab-df-buttons\">\n",
              "\n",
              "  <div class=\"colab-df-container\">\n",
              "    <button class=\"colab-df-convert\" onclick=\"convertToInteractive('df-aa84edac-78b7-47cc-a12b-22ac3d70aeeb')\"\n",
              "            title=\"Convert this dataframe to an interactive table.\"\n",
              "            style=\"display:none;\">\n",
              "\n",
              "  <svg xmlns=\"http://www.w3.org/2000/svg\" height=\"24px\" viewBox=\"0 -960 960 960\">\n",
              "    <path d=\"M120-120v-720h720v720H120Zm60-500h600v-160H180v160Zm220 220h160v-160H400v160Zm0 220h160v-160H400v160ZM180-400h160v-160H180v160Zm440 0h160v-160H620v160ZM180-180h160v-160H180v160Zm440 0h160v-160H620v160Z\"/>\n",
              "  </svg>\n",
              "    </button>\n",
              "\n",
              "  <style>\n",
              "    .colab-df-container {\n",
              "      display:flex;\n",
              "      gap: 12px;\n",
              "    }\n",
              "\n",
              "    .colab-df-convert {\n",
              "      background-color: #E8F0FE;\n",
              "      border: none;\n",
              "      border-radius: 50%;\n",
              "      cursor: pointer;\n",
              "      display: none;\n",
              "      fill: #1967D2;\n",
              "      height: 32px;\n",
              "      padding: 0 0 0 0;\n",
              "      width: 32px;\n",
              "    }\n",
              "\n",
              "    .colab-df-convert:hover {\n",
              "      background-color: #E2EBFA;\n",
              "      box-shadow: 0px 1px 2px rgba(60, 64, 67, 0.3), 0px 1px 3px 1px rgba(60, 64, 67, 0.15);\n",
              "      fill: #174EA6;\n",
              "    }\n",
              "\n",
              "    .colab-df-buttons div {\n",
              "      margin-bottom: 4px;\n",
              "    }\n",
              "\n",
              "    [theme=dark] .colab-df-convert {\n",
              "      background-color: #3B4455;\n",
              "      fill: #D2E3FC;\n",
              "    }\n",
              "\n",
              "    [theme=dark] .colab-df-convert:hover {\n",
              "      background-color: #434B5C;\n",
              "      box-shadow: 0px 1px 3px 1px rgba(0, 0, 0, 0.15);\n",
              "      filter: drop-shadow(0px 1px 2px rgba(0, 0, 0, 0.3));\n",
              "      fill: #FFFFFF;\n",
              "    }\n",
              "  </style>\n",
              "\n",
              "    <script>\n",
              "      const buttonEl =\n",
              "        document.querySelector('#df-aa84edac-78b7-47cc-a12b-22ac3d70aeeb button.colab-df-convert');\n",
              "      buttonEl.style.display =\n",
              "        google.colab.kernel.accessAllowed ? 'block' : 'none';\n",
              "\n",
              "      async function convertToInteractive(key) {\n",
              "        const element = document.querySelector('#df-aa84edac-78b7-47cc-a12b-22ac3d70aeeb');\n",
              "        const dataTable =\n",
              "          await google.colab.kernel.invokeFunction('convertToInteractive',\n",
              "                                                    [key], {});\n",
              "        if (!dataTable) return;\n",
              "\n",
              "        const docLinkHtml = 'Like what you see? Visit the ' +\n",
              "          '<a target=\"_blank\" href=https://colab.research.google.com/notebooks/data_table.ipynb>data table notebook</a>'\n",
              "          + ' to learn more about interactive tables.';\n",
              "        element.innerHTML = '';\n",
              "        dataTable['output_type'] = 'display_data';\n",
              "        await google.colab.output.renderOutput(dataTable, element);\n",
              "        const docLink = document.createElement('div');\n",
              "        docLink.innerHTML = docLinkHtml;\n",
              "        element.appendChild(docLink);\n",
              "      }\n",
              "    </script>\n",
              "  </div>\n",
              "\n",
              "\n",
              "<div id=\"df-4d6e0174-c404-4b75-b7c3-ff9d8aa21cf8\">\n",
              "  <button class=\"colab-df-quickchart\" onclick=\"quickchart('df-4d6e0174-c404-4b75-b7c3-ff9d8aa21cf8')\"\n",
              "            title=\"Suggest charts\"\n",
              "            style=\"display:none;\">\n",
              "\n",
              "<svg xmlns=\"http://www.w3.org/2000/svg\" height=\"24px\"viewBox=\"0 0 24 24\"\n",
              "     width=\"24px\">\n",
              "    <g>\n",
              "        <path d=\"M19 3H5c-1.1 0-2 .9-2 2v14c0 1.1.9 2 2 2h14c1.1 0 2-.9 2-2V5c0-1.1-.9-2-2-2zM9 17H7v-7h2v7zm4 0h-2V7h2v10zm4 0h-2v-4h2v4z\"/>\n",
              "    </g>\n",
              "</svg>\n",
              "  </button>\n",
              "\n",
              "<style>\n",
              "  .colab-df-quickchart {\n",
              "      --bg-color: #E8F0FE;\n",
              "      --fill-color: #1967D2;\n",
              "      --hover-bg-color: #E2EBFA;\n",
              "      --hover-fill-color: #174EA6;\n",
              "      --disabled-fill-color: #AAA;\n",
              "      --disabled-bg-color: #DDD;\n",
              "  }\n",
              "\n",
              "  [theme=dark] .colab-df-quickchart {\n",
              "      --bg-color: #3B4455;\n",
              "      --fill-color: #D2E3FC;\n",
              "      --hover-bg-color: #434B5C;\n",
              "      --hover-fill-color: #FFFFFF;\n",
              "      --disabled-bg-color: #3B4455;\n",
              "      --disabled-fill-color: #666;\n",
              "  }\n",
              "\n",
              "  .colab-df-quickchart {\n",
              "    background-color: var(--bg-color);\n",
              "    border: none;\n",
              "    border-radius: 50%;\n",
              "    cursor: pointer;\n",
              "    display: none;\n",
              "    fill: var(--fill-color);\n",
              "    height: 32px;\n",
              "    padding: 0;\n",
              "    width: 32px;\n",
              "  }\n",
              "\n",
              "  .colab-df-quickchart:hover {\n",
              "    background-color: var(--hover-bg-color);\n",
              "    box-shadow: 0 1px 2px rgba(60, 64, 67, 0.3), 0 1px 3px 1px rgba(60, 64, 67, 0.15);\n",
              "    fill: var(--button-hover-fill-color);\n",
              "  }\n",
              "\n",
              "  .colab-df-quickchart-complete:disabled,\n",
              "  .colab-df-quickchart-complete:disabled:hover {\n",
              "    background-color: var(--disabled-bg-color);\n",
              "    fill: var(--disabled-fill-color);\n",
              "    box-shadow: none;\n",
              "  }\n",
              "\n",
              "  .colab-df-spinner {\n",
              "    border: 2px solid var(--fill-color);\n",
              "    border-color: transparent;\n",
              "    border-bottom-color: var(--fill-color);\n",
              "    animation:\n",
              "      spin 1s steps(1) infinite;\n",
              "  }\n",
              "\n",
              "  @keyframes spin {\n",
              "    0% {\n",
              "      border-color: transparent;\n",
              "      border-bottom-color: var(--fill-color);\n",
              "      border-left-color: var(--fill-color);\n",
              "    }\n",
              "    20% {\n",
              "      border-color: transparent;\n",
              "      border-left-color: var(--fill-color);\n",
              "      border-top-color: var(--fill-color);\n",
              "    }\n",
              "    30% {\n",
              "      border-color: transparent;\n",
              "      border-left-color: var(--fill-color);\n",
              "      border-top-color: var(--fill-color);\n",
              "      border-right-color: var(--fill-color);\n",
              "    }\n",
              "    40% {\n",
              "      border-color: transparent;\n",
              "      border-right-color: var(--fill-color);\n",
              "      border-top-color: var(--fill-color);\n",
              "    }\n",
              "    60% {\n",
              "      border-color: transparent;\n",
              "      border-right-color: var(--fill-color);\n",
              "    }\n",
              "    80% {\n",
              "      border-color: transparent;\n",
              "      border-right-color: var(--fill-color);\n",
              "      border-bottom-color: var(--fill-color);\n",
              "    }\n",
              "    90% {\n",
              "      border-color: transparent;\n",
              "      border-bottom-color: var(--fill-color);\n",
              "    }\n",
              "  }\n",
              "</style>\n",
              "\n",
              "  <script>\n",
              "    async function quickchart(key) {\n",
              "      const quickchartButtonEl =\n",
              "        document.querySelector('#' + key + ' button');\n",
              "      quickchartButtonEl.disabled = true;  // To prevent multiple clicks.\n",
              "      quickchartButtonEl.classList.add('colab-df-spinner');\n",
              "      try {\n",
              "        const charts = await google.colab.kernel.invokeFunction(\n",
              "            'suggestCharts', [key], {});\n",
              "      } catch (error) {\n",
              "        console.error('Error during call to suggestCharts:', error);\n",
              "      }\n",
              "      quickchartButtonEl.classList.remove('colab-df-spinner');\n",
              "      quickchartButtonEl.classList.add('colab-df-quickchart-complete');\n",
              "    }\n",
              "    (() => {\n",
              "      let quickchartButtonEl =\n",
              "        document.querySelector('#df-4d6e0174-c404-4b75-b7c3-ff9d8aa21cf8 button');\n",
              "      quickchartButtonEl.style.display =\n",
              "        google.colab.kernel.accessAllowed ? 'block' : 'none';\n",
              "    })();\n",
              "  </script>\n",
              "</div>\n",
              "    </div>\n",
              "  </div>\n"
            ]
          },
          "metadata": {},
          "execution_count": 32
        }
      ]
    },
    {
      "cell_type": "markdown",
      "source": [
        "Random forest classifier model predicts beter than other models"
      ],
      "metadata": {
        "id": "fLJALIQdQMG7"
      }
    },
    {
      "cell_type": "markdown",
      "source": [
        "Save the best model"
      ],
      "metadata": {
        "id": "cYFQB9LCQcgC"
      }
    },
    {
      "cell_type": "code",
      "source": [
        "pickle.dump(rf, open('loanrf.pkl', 'wb'))"
      ],
      "metadata": {
        "id": "23Kl69wLP9ev"
      },
      "execution_count": 33,
      "outputs": []
    },
    {
      "cell_type": "code",
      "source": [],
      "metadata": {
        "id": "Djj7N73fQ-_O"
      },
      "execution_count": 33,
      "outputs": []
    }
  ]
}